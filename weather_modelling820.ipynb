{
  "nbformat": 4,
  "nbformat_minor": 0,
  "metadata": {
    "colab": {
      "provenance": [],
      "authorship_tag": "ABX9TyN+jCqvG8QwOHIIcNDD/mwA",
      "include_colab_link": true
    },
    "kernelspec": {
      "name": "python3",
      "display_name": "Python 3"
    },
    "language_info": {
      "name": "python"
    }
  },
  "cells": [
    {
      "cell_type": "markdown",
      "metadata": {
        "id": "view-in-github",
        "colab_type": "text"
      },
      "source": [
        "<a href=\"https://colab.research.google.com/github/Jaswant036/Software-engineering-task2/blob/main/weather_modelling820.ipynb\" target=\"_parent\"><img src=\"https://colab.research.google.com/assets/colab-badge.svg\" alt=\"Open In Colab\"/></a>"
      ]
    },
    {
      "cell_type": "markdown",
      "source": [
        "## Implementation outline for weather modeling using a quadratic solution. The approace evolves in stages:\n",
        "\n"
      ],
      "metadata": {
        "id": "EmWrUbjgS2ox"
      }
    },
    {
      "cell_type": "code",
      "source": [
        "# 1. Hardcoding variables.\n",
        "def Temperature_modeling(a,b,c,time):\n",
        "  temperature = a*time**2 + b*time + c\n",
        "  return temperature\n",
        "a,b,c =0.1,2,10\n",
        "time = 10\n",
        "#display results\n",
        "print(\"Hard-coded variables for wheather  modeling\")\n",
        "print(\"Temperature for hardcoded coefficient at time\",time, \"hours\", Temperature_modeling(a,b,c,time))"
      ],
      "metadata": {
        "colab": {
          "base_uri": "https://localhost:8080/"
        },
        "id": "D8LkQ5FMTGVq",
        "outputId": "86b2076c-c550-4861-9c82-62c84407df40"
      },
      "execution_count": 6,
      "outputs": [
        {
          "output_type": "stream",
          "name": "stdout",
          "text": [
            "Hard-coded variables for wheather  modeling\n",
            "Temperature for hardcoded coefficient at time 10 hours 40.0\n"
          ]
        }
      ]
    },
    {
      "cell_type": "markdown",
      "source": [
        "## ACCEPTING THE VARIABLES VIA KEYBOARD INPUT"
      ],
      "metadata": {
        "id": "N9dWzbFeV-2y"
      }
    },
    {
      "cell_type": "code",
      "source": [
        "a=float(input(\"enter coefficient a:\"))\n",
        "b=float(input(\"enter coefficient b:\"))\n",
        "c=float(input(\"enter coefficient c:\"))\n",
        "time=float(input(\"enter time:\"))\n",
        "print(\"Hard-coded variables for wheather  modeling\")\n",
        "print(\"Temperature for hardcoded coefficient at time\",time, \"hours\", Temperature_modeling(a,b,c,time))"
      ],
      "metadata": {
        "colab": {
          "base_uri": "https://localhost:8080/"
        },
        "id": "kRJ3I9f9VWSw",
        "outputId": "6ba7e950-5d66-4dfa-84de-d884f3f8dd27"
      },
      "execution_count": 8,
      "outputs": [
        {
          "output_type": "stream",
          "name": "stdout",
          "text": [
            "enter coefficient a:1\n",
            "enter coefficient b:2\n",
            "enter coefficient c:3\n",
            "enter time:7\n",
            "Hard-coded variables for wheather  modeling\n",
            "Temperature for hardcoded coefficient at time 7.0 hours 66.0\n"
          ]
        }
      ]
    },
    {
      "cell_type": "markdown",
      "source": [
        "##Reading Variables from a File"
      ],
      "metadata": {
        "id": "lFg5ScX0WGKI"
      }
    },
    {
      "cell_type": "code",
      "source": [
        "#Reading Variables from a file\n",
        "def read_from_file(filename):\n",
        "    with open(filename, 'r') as file:\n",
        "        lines = file.readlines()\n",
        "    coefficients = [tuple(map(float, line.strip().split(','))) for line in lines]\n",
        "    return coefficients"
      ],
      "metadata": {
        "id": "tEYzdaHaWCaK"
      },
      "execution_count": 19,
      "outputs": []
    },
    {
      "cell_type": "code",
      "source": [
        "file_path = '/content/input.txt'\n",
        "coefficients = read_from_file(file_path)\n",
        "\n",
        "if coefficients:\n",
        "    a, b, c, time = coefficients[0]  # Use the first set of coefficients\n",
        "    temperature = Temperature_modeling(a, b, c, time)\n",
        "    print(f\"Temperature at time {time} hours: {temperature}\")\n",
        "else:\n",
        "    print(\"No coefficients found. Please check the input file.\")\n"
      ],
      "metadata": {
        "colab": {
          "base_uri": "https://localhost:8080/"
        },
        "id": "knXyD-hWXNB7",
        "outputId": "fd734234-522d-4377-ed76-dd414e0c7ca3"
      },
      "execution_count": 23,
      "outputs": [
        {
          "output_type": "stream",
          "name": "stdout",
          "text": [
            "Temperature at time 4.0 hours: 27.0\n"
          ]
        }
      ]
    },
    {
      "cell_type": "code",
      "source": [
        "# Solve for all sets in the file\n",
        "file_path = '/content/input2.txt'\n",
        "coefficients = read_from_file(file_path)\n",
        "for idx, (a, b, c, time) in enumerate(coefficients):\n",
        "    temperature = Temperature_modeling(a, b, c, time)\n",
        "    print(\"Temperature from keyboard coefficients at time\", time, \"hours:\", Temperature_modeling(a, b, c, time))\n"
      ],
      "metadata": {
        "colab": {
          "base_uri": "https://localhost:8080/"
        },
        "id": "3Qc0VVDGaT6U",
        "outputId": "6081e065-1ef1-4315-a943-90a7f7d53bb4"
      },
      "execution_count": 25,
      "outputs": [
        {
          "output_type": "stream",
          "name": "stdout",
          "text": [
            "Temperature from keyboard coefficients at time 4.0 hours: 27.0\n",
            "Temperature from keyboard coefficients at time 5.0 hours: 69.0\n",
            "Temperature from keyboard coefficients at time 6.0 hours: 137.0\n"
          ]
        }
      ]
    }
  ]
}