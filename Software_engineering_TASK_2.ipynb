{
  "nbformat": 4,
  "nbformat_minor": 0,
  "metadata": {
    "colab": {
      "provenance": [],
      "authorship_tag": "ABX9TyP0GI7ebplUPyh72uts+Mfz",
      "include_colab_link": true
    },
    "kernelspec": {
      "name": "python3",
      "display_name": "Python 3"
    },
    "language_info": {
      "name": "python"
    }
  },
  "cells": [
    {
      "cell_type": "markdown",
      "metadata": {
        "id": "view-in-github",
        "colab_type": "text"
      },
      "source": [
        "<a href=\"https://colab.research.google.com/github/Jaswant036/Software-engineering-task2/blob/main/Software_engineering_TASK_2.ipynb\" target=\"_parent\"><img src=\"https://colab.research.google.com/assets/colab-badge.svg\" alt=\"Open In Colab\"/></a>"
      ]
    },
    {
      "cell_type": "markdown",
      "source": [],
      "metadata": {
        "id": "J-KA1gaSNPrT"
      }
    },
    {
      "cell_type": "markdown",
      "source": [
        "## **Task 1: Hardcoding Variables**"
      ],
      "metadata": {
        "id": "ZoAeQZ95NRcE"
      }
    },
    {
      "cell_type": "code",
      "execution_count": null,
      "metadata": {
        "colab": {
          "base_uri": "https://localhost:8080/"
        },
        "id": "6kSm1r8YLdqp",
        "outputId": "63a98824-e6dd-4eeb-9995-8051b414bf9a"
      },
      "outputs": [
        {
          "output_type": "stream",
          "name": "stdout",
          "text": [
            "Hardcoded Subtraction Result: 10\n"
          ]
        }
      ],
      "source": [
        "\n",
        "num1 = 20\n",
        "num2 = 10\n",
        "result = num1 - num2\n",
        "print(f\"Hardcoded Subtraction Result: {result}\")\n"
      ]
    },
    {
      "cell_type": "markdown",
      "source": [
        "## Task 2: Keyboard Input"
      ],
      "metadata": {
        "id": "W0bEBi8eNFSk"
      }
    },
    {
      "cell_type": "code",
      "source": [
        "    try:\n",
        "        num1 = int(input(\"Enter the first number: \"))\n",
        "        num2 = int(input(\"Enter the second number: \"))\n",
        "        result = num1 - num2\n",
        "        print(f\"Subtraction Result from Keyboard Input: {result}\")\n",
        "    except ValueError as e:\n",
        "        print(\"Invalid input. Please enter integers.\")"
      ],
      "metadata": {
        "colab": {
          "base_uri": "https://localhost:8080/"
        },
        "id": "UGS-luvSMY7d",
        "outputId": "b7c1fe58-c02f-4eb6-ee68-626ffcace907"
      },
      "execution_count": null,
      "outputs": [
        {
          "output_type": "stream",
          "name": "stdout",
          "text": [
            "Enter the first number: 10\n",
            "Enter the second number: 5\n",
            "Subtraction Result from Keyboard Input: 5\n"
          ]
        }
      ]
    },
    {
      "cell_type": "markdown",
      "source": [
        "#Task 3: Read From File (Single Input)"
      ],
      "metadata": {
        "id": "dJaNfK5cNU18"
      }
    },
    {
      "cell_type": "code",
      "source": [
        "try:\n",
        "    with open('input.txt', 'r') as file:\n",
        "        num = int(file.readline().strip())\n",
        "        print(f\"Number read from file: {num}\")\n",
        "except FileNotFoundError:\n",
        "    print(f\"Error: File 'input.txt' not found.\")\n",
        "except ValueError:\n",
        "    print(\"Error: Unable to convert the content to an integer.\")\n"
      ],
      "metadata": {
        "colab": {
          "base_uri": "https://localhost:8080/"
        },
        "id": "t1ABcDPdNUgz",
        "outputId": "bc6362e3-c637-4d58-b859-590289368041"
      },
      "execution_count": null,
      "outputs": [
        {
          "output_type": "stream",
          "name": "stdout",
          "text": [
            "Number read from file: 10\n"
          ]
        }
      ]
    },
    {
      "cell_type": "markdown",
      "source": [
        "## **Task 4: Read From File (Multiple Inputs)**"
      ],
      "metadata": {
        "id": "yCSK5leKPYVb"
      }
    },
    {
      "cell_type": "code",
      "source": [
        "    try:\n",
        "        with open('inputs.txt', 'r') as file:\n",
        "            numbers = [int(line.strip()) for line in file]\n",
        "            print(f\"Numbers read from file: {numbers}\")\n",
        "            print(f\"Difference of numbers: {numbers[0] - sum(numbers[1:])}\")\n",
        "    except FileNotFoundError:\n",
        "        print(f\"Error: File '{inputs.txt}' not found.\")\n",
        "    except ValueError:\n",
        "        print(\"Error: Ensure all lines in the file contain integers.\")"
      ],
      "metadata": {
        "colab": {
          "base_uri": "https://localhost:8080/"
        },
        "id": "fWmvj-dIPeDC",
        "outputId": "48c6ae07-7862-4041-a1bd-8231b46d4d27"
      },
      "execution_count": null,
      "outputs": [
        {
          "output_type": "stream",
          "name": "stdout",
          "text": [
            "Numbers read from file: [10, 20, 30]\n",
            "Difference of numbers: -40\n"
          ]
        }
      ]
    }
  ]
}